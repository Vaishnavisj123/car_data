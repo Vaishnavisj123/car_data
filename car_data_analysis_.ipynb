{
 "cells": [
  {
   "cell_type": "markdown",
   "metadata": {},
   "source": [
    "CASE STUDY:-CAR DATA ANALYSIS"
   ]
  },
  {
   "cell_type": "code",
   "execution_count": 4,
   "metadata": {},
   "outputs": [
    {
     "name": "stdout",
     "output_type": "stream",
     "text": [
      "  Car_Name  Year  Selling_Price  Present_Price  Kms_Driven Fuel_Type  \\\n",
      "0     ritz  2014           3.35           5.59       27000    Petrol   \n",
      "1      sx4  2013           4.75           9.54       43000    Diesel   \n",
      "2     ciaz  2017           7.25           9.85        6900    Petrol   \n",
      "3  wagon r  2011           2.85           4.15        5200    Petrol   \n",
      "4    swift  2014           4.60           6.87       42450    Diesel   \n",
      "\n",
      "  Seller_Type Transmission  Owner  \n",
      "0      Dealer       Manual      0  \n",
      "1      Dealer       Manual      0  \n",
      "2      Dealer       Manual      0  \n",
      "3      Dealer       Manual      0  \n",
      "4      Dealer       Manual      0  \n"
     ]
    }
   ],
   "source": [
    "#LOAD THE DATASET\n",
    "import matplotlib.pyplot as plt\n",
    "import numpy as np\n",
    "import pandas as pd\n",
    "import seaborn as sns\n",
    "\n",
    "df=pd.read_csv('car_data.csv')\n",
    "print(df.head())"
   ]
  },
  {
   "cell_type": "code",
   "execution_count": 5,
   "metadata": {},
   "outputs": [
    {
     "name": "stdout",
     "output_type": "stream",
     "text": [
      "<class 'pandas.core.frame.DataFrame'>\n",
      "RangeIndex: 301 entries, 0 to 300\n",
      "Data columns (total 9 columns):\n",
      " #   Column         Non-Null Count  Dtype  \n",
      "---  ------         --------------  -----  \n",
      " 0   Car_Name       301 non-null    object \n",
      " 1   Year           301 non-null    int64  \n",
      " 2   Selling_Price  301 non-null    float64\n",
      " 3   Present_Price  301 non-null    float64\n",
      " 4   Kms_Driven     301 non-null    int64  \n",
      " 5   Fuel_Type      301 non-null    object \n",
      " 6   Seller_Type    301 non-null    object \n",
      " 7   Transmission   301 non-null    object \n",
      " 8   Owner          301 non-null    int64  \n",
      "dtypes: float64(2), int64(3), object(4)\n",
      "memory usage: 21.3+ KB\n"
     ]
    }
   ],
   "source": [
    "df.info()"
   ]
  },
  {
   "cell_type": "code",
   "execution_count": 6,
   "metadata": {},
   "outputs": [
    {
     "data": {
      "text/html": [
       "<div>\n",
       "<style scoped>\n",
       "    .dataframe tbody tr th:only-of-type {\n",
       "        vertical-align: middle;\n",
       "    }\n",
       "\n",
       "    .dataframe tbody tr th {\n",
       "        vertical-align: top;\n",
       "    }\n",
       "\n",
       "    .dataframe thead th {\n",
       "        text-align: right;\n",
       "    }\n",
       "</style>\n",
       "<table border=\"1\" class=\"dataframe\">\n",
       "  <thead>\n",
       "    <tr style=\"text-align: right;\">\n",
       "      <th></th>\n",
       "      <th>Year</th>\n",
       "      <th>Selling_Price</th>\n",
       "      <th>Present_Price</th>\n",
       "      <th>Kms_Driven</th>\n",
       "      <th>Owner</th>\n",
       "    </tr>\n",
       "  </thead>\n",
       "  <tbody>\n",
       "    <tr>\n",
       "      <th>count</th>\n",
       "      <td>301.000000</td>\n",
       "      <td>301.000000</td>\n",
       "      <td>301.000000</td>\n",
       "      <td>301.000000</td>\n",
       "      <td>301.000000</td>\n",
       "    </tr>\n",
       "    <tr>\n",
       "      <th>mean</th>\n",
       "      <td>2013.627907</td>\n",
       "      <td>4.661296</td>\n",
       "      <td>7.628472</td>\n",
       "      <td>36947.205980</td>\n",
       "      <td>0.043189</td>\n",
       "    </tr>\n",
       "    <tr>\n",
       "      <th>std</th>\n",
       "      <td>2.891554</td>\n",
       "      <td>5.082812</td>\n",
       "      <td>8.644115</td>\n",
       "      <td>38886.883882</td>\n",
       "      <td>0.247915</td>\n",
       "    </tr>\n",
       "    <tr>\n",
       "      <th>min</th>\n",
       "      <td>2003.000000</td>\n",
       "      <td>0.100000</td>\n",
       "      <td>0.320000</td>\n",
       "      <td>500.000000</td>\n",
       "      <td>0.000000</td>\n",
       "    </tr>\n",
       "    <tr>\n",
       "      <th>25%</th>\n",
       "      <td>2012.000000</td>\n",
       "      <td>0.900000</td>\n",
       "      <td>1.200000</td>\n",
       "      <td>15000.000000</td>\n",
       "      <td>0.000000</td>\n",
       "    </tr>\n",
       "    <tr>\n",
       "      <th>50%</th>\n",
       "      <td>2014.000000</td>\n",
       "      <td>3.600000</td>\n",
       "      <td>6.400000</td>\n",
       "      <td>32000.000000</td>\n",
       "      <td>0.000000</td>\n",
       "    </tr>\n",
       "    <tr>\n",
       "      <th>75%</th>\n",
       "      <td>2016.000000</td>\n",
       "      <td>6.000000</td>\n",
       "      <td>9.900000</td>\n",
       "      <td>48767.000000</td>\n",
       "      <td>0.000000</td>\n",
       "    </tr>\n",
       "    <tr>\n",
       "      <th>max</th>\n",
       "      <td>2018.000000</td>\n",
       "      <td>35.000000</td>\n",
       "      <td>92.600000</td>\n",
       "      <td>500000.000000</td>\n",
       "      <td>3.000000</td>\n",
       "    </tr>\n",
       "  </tbody>\n",
       "</table>\n",
       "</div>"
      ],
      "text/plain": [
       "              Year  Selling_Price  Present_Price     Kms_Driven       Owner\n",
       "count   301.000000     301.000000     301.000000     301.000000  301.000000\n",
       "mean   2013.627907       4.661296       7.628472   36947.205980    0.043189\n",
       "std       2.891554       5.082812       8.644115   38886.883882    0.247915\n",
       "min    2003.000000       0.100000       0.320000     500.000000    0.000000\n",
       "25%    2012.000000       0.900000       1.200000   15000.000000    0.000000\n",
       "50%    2014.000000       3.600000       6.400000   32000.000000    0.000000\n",
       "75%    2016.000000       6.000000       9.900000   48767.000000    0.000000\n",
       "max    2018.000000      35.000000      92.600000  500000.000000    3.000000"
      ]
     },
     "execution_count": 6,
     "metadata": {},
     "output_type": "execute_result"
    }
   ],
   "source": [
    "df.describe()"
   ]
  },
  {
   "cell_type": "code",
   "execution_count": 7,
   "metadata": {},
   "outputs": [
    {
     "data": {
      "text/plain": [
       "Car_Name         0\n",
       "Year             0\n",
       "Selling_Price    0\n",
       "Present_Price    0\n",
       "Kms_Driven       0\n",
       "Fuel_Type        0\n",
       "Seller_Type      0\n",
       "Transmission     0\n",
       "Owner            0\n",
       "dtype: int64"
      ]
     },
     "execution_count": 7,
     "metadata": {},
     "output_type": "execute_result"
    }
   ],
   "source": [
    "df.isnull().sum()"
   ]
  },
  {
   "cell_type": "markdown",
   "metadata": {},
   "source": [
    "1)From which manufacturing year to which manufacturing year vehicles are present in this data ?"
   ]
  },
  {
   "cell_type": "code",
   "execution_count": 10,
   "metadata": {},
   "outputs": [
    {
     "name": "stdout",
     "output_type": "stream",
     "text": [
      "Vehicles are present from the year 2003 to 2018.\n"
     ]
    }
   ],
   "source": [
    "min_year = df['Year'].min()\n",
    "max_year = df['Year'].max()\n",
    "print(f\"Vehicles are present from the year {min_year} to {max_year}.\")"
   ]
  },
  {
   "cell_type": "markdown",
   "metadata": {},
   "source": [
    "2)What is the lowest price to which a vehicle is sold ?"
   ]
  },
  {
   "cell_type": "code",
   "execution_count": 11,
   "metadata": {},
   "outputs": [
    {
     "name": "stdout",
     "output_type": "stream",
     "text": [
      "Lowest price of a car is 0.1 lakhs.\n"
     ]
    }
   ],
   "source": [
    "lowest_price=df['Selling_Price'].min()\n",
    "print(f\"Lowest price of a car is {lowest_price} lakhs.\")"
   ]
  },
  {
   "cell_type": "markdown",
   "metadata": {},
   "source": [
    "3)What is the highest price to which a vehicle is sold ?\n"
   ]
  },
  {
   "cell_type": "code",
   "execution_count": 12,
   "metadata": {},
   "outputs": [
    {
     "name": "stdout",
     "output_type": "stream",
     "text": [
      "Highset price of a car is 35.0 lakhs.\n"
     ]
    }
   ],
   "source": [
    "highest_price=df['Selling_Price'].max()\n",
    "print(f\"Highset price of a car is {highest_price} lakhs.\")"
   ]
  },
  {
   "cell_type": "markdown",
   "metadata": {},
   "source": [
    "4) How many records are there in this data ?\n"
   ]
  },
  {
   "cell_type": "code",
   "execution_count": 13,
   "metadata": {},
   "outputs": [
    {
     "name": "stdout",
     "output_type": "stream",
     "text": [
      "There are 301 records in this data.\n"
     ]
    }
   ],
   "source": [
    "num_records = df.shape[0]\n",
    "print(f\"There are {num_records} records in this data.\")"
   ]
  },
  {
   "cell_type": "markdown",
   "metadata": {},
   "source": [
    "5) Are there any missing records in this data ?\n"
   ]
  },
  {
   "cell_type": "code",
   "execution_count": 14,
   "metadata": {},
   "outputs": [
    {
     "name": "stdout",
     "output_type": "stream",
     "text": [
      "There are no missing records in this data.\n"
     ]
    }
   ],
   "source": [
    "missing_records = df.isnull().sum().sum()\n",
    "if missing_records > 0:\n",
    "    print(f\"There are {missing_records} missing records in this data.\")\n",
    "else:\n",
    "    print(\"There are no missing records in this data.\")"
   ]
  },
  {
   "cell_type": "markdown",
   "metadata": {},
   "source": [
    "6) How many different vehicles are present in this data ?\n"
   ]
  },
  {
   "cell_type": "code",
   "execution_count": 15,
   "metadata": {},
   "outputs": [
    {
     "name": "stdout",
     "output_type": "stream",
     "text": [
      "There are 98 different vehicles in this data.\n"
     ]
    }
   ],
   "source": [
    "num_different_vehicles = df['Car_Name'].nunique()\n",
    "print(f\"There are {num_different_vehicles} different vehicles in this data.\")"
   ]
  },
  {
   "cell_type": "markdown",
   "metadata": {},
   "source": [
    "7) Which is the most sold vehicle in this data ?\n"
   ]
  },
  {
   "cell_type": "code",
   "execution_count": 16,
   "metadata": {},
   "outputs": [
    {
     "name": "stdout",
     "output_type": "stream",
     "text": [
      "The most sold vehicle in this data is city.\n"
     ]
    }
   ],
   "source": [
    "most_sold_vehicle = df['Car_Name'].value_counts().idxmax()\n",
    "print(f\"The most sold vehicle in this data is {most_sold_vehicle}.\")"
   ]
  },
  {
   "cell_type": "markdown",
   "metadata": {},
   "source": [
    "8) Does the database include any CNG vehicle ? If yes how many of them are there ?\n"
   ]
  },
  {
   "cell_type": "code",
   "execution_count": 17,
   "metadata": {},
   "outputs": [
    {
     "name": "stdout",
     "output_type": "stream",
     "text": [
      "There are 2 CNG vehicles in this data.\n"
     ]
    }
   ],
   "source": [
    "cng_vehicles = df[df['Fuel_Type'] == 'CNG']\n",
    "num_cng_vehicles = cng_vehicles.shape[0]\n",
    "\n",
    "if num_cng_vehicles > 0:\n",
    "    print(f\"There are {num_cng_vehicles} CNG vehicles in this data.\")\n",
    "else:\n",
    "    print(\"There are no CNG vehicles in this data.\")"
   ]
  },
  {
   "cell_type": "markdown",
   "metadata": {},
   "source": [
    "9) How many vehicles here are for sell from Individuals directly ?\n"
   ]
  },
  {
   "cell_type": "code",
   "execution_count": 18,
   "metadata": {},
   "outputs": [
    {
     "name": "stdout",
     "output_type": "stream",
     "text": [
      "There are 106 vehicles for sale from individuals directly.\n"
     ]
    }
   ],
   "source": [
    "individual_vehicles = df[df['Seller_Type'] == 'Individual']\n",
    "num_individual_vehicles = individual_vehicles.shape[0]\n",
    "print(f\"There are {num_individual_vehicles} vehicles for sale from individuals directly.\")"
   ]
  },
  {
   "cell_type": "markdown",
   "metadata": {},
   "source": [
    "10) Does this database contain auto transmission vehicles ? If yes how many of them are there ?"
   ]
  },
  {
   "cell_type": "code",
   "execution_count": 19,
   "metadata": {},
   "outputs": [
    {
     "name": "stdout",
     "output_type": "stream",
     "text": [
      "There are 40 auto transmission vehicles in this data.\n"
     ]
    }
   ],
   "source": [
    "auto_transmission_vehicles = df[df['Transmission'] == 'Automatic']\n",
    "num_auto_transmission_vehicles = auto_transmission_vehicles.shape[0]\n",
    "\n",
    "if num_auto_transmission_vehicles > 0:\n",
    "    print(f\"There are {num_auto_transmission_vehicles} auto transmission vehicles in this data.\")\n",
    "else:\n",
    "    print(\"There are no auto transmission vehicles in this data.\")"
   ]
  },
  {
   "cell_type": "markdown",
   "metadata": {},
   "source": [
    "11) How many single person owned vehicles are there in this database ?\n"
   ]
  },
  {
   "cell_type": "code",
   "execution_count": 20,
   "metadata": {},
   "outputs": [
    {
     "name": "stdout",
     "output_type": "stream",
     "text": [
      "There are 10 single person owned vehicles in this database.\n"
     ]
    }
   ],
   "source": [
    "single_owner_vehicles = df[df['Owner'] == 1]\n",
    "num_single_owner_vehicles = single_owner_vehicles.shape[0]\n",
    "print(f\"There are {num_single_owner_vehicles} single person owned vehicles in this database.\")"
   ]
  },
  {
   "cell_type": "markdown",
   "metadata": {},
   "source": [
    "12) Which is the most and least cost depreciated vehicle in data ?\n"
   ]
  },
  {
   "cell_type": "code",
   "execution_count": 21,
   "metadata": {
    "vscode": {
     "languageId": "ruby"
    }
   },
   "outputs": [
    {
     "name": "stdout",
     "output_type": "stream",
     "text": [
      "The most cost depreciated vehicle is land cruiser with a depreciation of 57.599999999999994 lakhs.\n",
      "The least cost depreciated vehicle is Honda Activa 4G with a depreciation of 0.030000000000000027 lakhs.\n"
     ]
    }
   ],
   "source": [
    "# Calculate depreciation for each vehicle\n",
    "df['Depreciation'] = df['Present_Price'] - df['Selling_Price']\n",
    "\n",
    "# Find the vehicle with the maximum depreciation\n",
    "most_depreciated_vehicle = df.loc[df['Depreciation'].idxmax()]\n",
    "\n",
    "# Find the vehicle with the minimum depreciation\n",
    "least_depreciated_vehicle = df.loc[df['Depreciation'].idxmin()]\n",
    "\n",
    "print(f\"The most cost depreciated vehicle is {most_depreciated_vehicle['Car_Name']} with a depreciation of {most_depreciated_vehicle['Depreciation']} lakhs.\")\n",
    "print(f\"The least cost depreciated vehicle is {least_depreciated_vehicle['Car_Name']} with a depreciation of {least_depreciated_vehicle['Depreciation']} lakhs.\")"
   ]
  },
  {
   "cell_type": "markdown",
   "metadata": {},
   "source": [
    "13) Which brands of vehicles are less affected by cost depreciation ?\n"
   ]
  },
  {
   "cell_type": "code",
   "execution_count": 22,
   "metadata": {},
   "outputs": [
    {
     "name": "stdout",
     "output_type": "stream",
     "text": [
      "Brands of vehicles less affected by cost depreciation:\n",
      "Car_Name\n",
      "TVS Sport                   0.040\n",
      "Honda Activa 4G             0.045\n",
      "Hero Passion X pro          0.050\n",
      "Bajaj Avenger 150           0.050\n",
      "Honda Dream Yuga            0.060\n",
      "Yamaha FZ 16                0.070\n",
      "Activa 4g                   0.110\n",
      "Hero Splender iSmart        0.115\n",
      "Royal Enfield Bullet 350    0.120\n",
      "UM Renegade Mojave          0.120\n",
      "Name: Depreciation, dtype: float64\n"
     ]
    }
   ],
   "source": [
    "# Calculate the average depreciation for each brand\n",
    "average_depreciation_by_brand = df.groupby('Car_Name')['Depreciation'].mean().sort_values()\n",
    "\n",
    "# Display the brands with the least depreciation\n",
    "print(\"Brands of vehicles less affected by cost depreciation:\")\n",
    "print(average_depreciation_by_brand.head(10))"
   ]
  },
  {
   "cell_type": "markdown",
   "metadata": {},
   "source": [
    "14) Are there any factors which you feel affect the cost depreciation ?\n"
   ]
  },
  {
   "cell_type": "code",
   "execution_count": 26,
   "metadata": {},
   "outputs": [
    {
     "name": "stdout",
     "output_type": "stream",
     "text": [
      "Correlation of Depreciation with other features:\n",
      "Depreciation     1.000000\n",
      "Present_Price    0.864902\n",
      "Selling_Price    0.520881\n",
      "Kms_Driven       0.333832\n",
      "Owner            0.107415\n",
      "Year            -0.333746\n",
      "Name: Depreciation, dtype: float64\n"
     ]
    }
   ],
   "source": [
    "# Calculate the correlation matrix\n",
    "correlation_matrix = df.corr(numeric_only=True)\n",
    "\n",
    "# Get the correlation of 'Depreciation' with other features\n",
    "depreciation_correlation = correlation_matrix['Depreciation'].sort_values(ascending=False)\n",
    "\n",
    "print(\"Correlation of Depreciation with other features:\")\n",
    "print(depreciation_correlation)"
   ]
  },
  {
   "cell_type": "markdown",
   "metadata": {},
   "source": [
    "15) In general selling price is affected by age of vehicle and distance driven by vehicle , is it observable from data ?"
   ]
  },
  {
   "cell_type": "code",
   "execution_count": 27,
   "metadata": {},
   "outputs": [
    {
     "data": {
      "image/png": "[encoded data removed]",
      "text/plain": [
       "<Figure size 1000x500 with 2 Axes>"
      ]
     },
     "metadata": {},
     "output_type": "display_data"
    }
   ],
   "source": [
    "# Calculate the age of the vehicle\n",
    "df['Vehicle_Age'] = 2023 - df['Year']\n",
    "\n",
    "# Scatter plot for Selling Price vs Vehicle Age\n",
    "plt.figure(figsize=(10, 5))\n",
    "plt.subplot(1, 2, 1)\n",
    "sns.scatterplot(x='Vehicle_Age', y='Selling_Price', data=df)\n",
    "plt.title('Selling Price vs Vehicle Age')\n",
    "plt.xlabel('Vehicle Age (years)')\n",
    "plt.ylabel('Selling Price (lakhs)')\n",
    "\n",
    "# Scatter plot for Selling Price vs Kms Driven\n",
    "plt.subplot(1, 2, 2)\n",
    "sns.scatterplot(x='Kms_Driven', y='Selling_Price', data=df)\n",
    "plt.title('Selling Price vs Kms Driven')\n",
    "plt.xlabel('Kms Driven')\n",
    "plt.ylabel('Selling Price (lakhs)')\n",
    "\n",
    "plt.tight_layout()\n",
    "plt.show()"
   ]
  },
  {
   "cell_type": "markdown",
   "metadata": {},
   "source": [
    "16) Can we get idea about newest vehicles i.e. after 2014 manufactured ?\n"
   ]
  },
  {
   "cell_type": "code",
   "execution_count": 28,
   "metadata": {},
   "outputs": [
    {
     "name": "stdout",
     "output_type": "stream",
     "text": [
      "          Car_Name  Year  Selling_Price  Present_Price  Kms_Driven Fuel_Type  \\\n",
      "2             ciaz  2017           7.25           9.85        6900    Petrol   \n",
      "5    vitara brezza  2018           9.25           9.83        2071    Diesel   \n",
      "6             ciaz  2015           6.75           8.12       18796    Petrol   \n",
      "7          s cross  2015           6.50           8.61       33429    Diesel   \n",
      "8             ciaz  2016           8.75           8.89       20273    Diesel   \n",
      "..             ...   ...            ...            ...         ...       ...   \n",
      "295           city  2015           8.55          13.09       60076    Diesel   \n",
      "296           city  2016           9.50          11.60       33988    Diesel   \n",
      "297           brio  2015           4.00           5.90       60000    Petrol   \n",
      "299           city  2017          11.50          12.50        9000    Diesel   \n",
      "300           brio  2016           5.30           5.90        5464    Petrol   \n",
      "\n",
      "    Seller_Type Transmission  Owner  Depreciation  Vehicle_Age  \n",
      "2        Dealer       Manual      0          2.60            6  \n",
      "5        Dealer       Manual      0          0.58            5  \n",
      "6        Dealer       Manual      0          1.37            8  \n",
      "7        Dealer       Manual      0          2.11            8  \n",
      "8        Dealer       Manual      0          0.14            7  \n",
      "..          ...          ...    ...           ...          ...  \n",
      "295      Dealer       Manual      0          4.54            8  \n",
      "296      Dealer       Manual      0          2.10            7  \n",
      "297      Dealer       Manual      0          1.90            8  \n",
      "299      Dealer       Manual      0          1.00            6  \n",
      "300      Dealer       Manual      0          0.60            7  \n",
      "\n",
      "[147 rows x 11 columns]\n"
     ]
    }
   ],
   "source": [
    "newest_vehicles = df[df['Year'] > 2014]\n",
    "print(newest_vehicles)"
   ]
  },
  {
   "cell_type": "markdown",
   "metadata": {},
   "source": [
    "17) Can we find out data of only two wheelers from this data ?\n"
   ]
  },
  {
   "cell_type": "markdown",
   "metadata": {},
   "source": [
    "18) Which is the oldest bike sold here?\n"
   ]
  },
  {
   "cell_type": "code",
   "execution_count": 29,
   "metadata": {},
   "outputs": [
    {
     "name": "stdout",
     "output_type": "stream",
     "text": [
      "The oldest bike sold here is Activa 3g from the year 2008.\n"
     ]
    }
   ],
   "source": [
    "# Filter the dataframe for bikes\n",
    "bikes = df[df['Car_Name'].str.contains('bike', case=False) | df['Car_Name'].str.contains('activa', case=False) | df['Car_Name'].str.contains('scooter', case=False)]\n",
    "\n",
    "# Find the oldest bike\n",
    "oldest_bike = bikes.loc[bikes['Year'].idxmin()]\n",
    "\n",
    "print(f\"The oldest bike sold here is {oldest_bike['Car_Name']} from the year {oldest_bike['Year']}.\")"
   ]
  },
  {
   "cell_type": "markdown",
   "metadata": {},
   "source": [
    "19) Which is the newest bike sold here?\n"
   ]
  },
  {
   "cell_type": "code",
   "execution_count": 30,
   "metadata": {},
   "outputs": [
    {
     "name": "stdout",
     "output_type": "stream",
     "text": [
      "The newest bike sold here is Honda Activa 4G from the year 2017.\n"
     ]
    }
   ],
   "source": [
    "newest_bike = bikes.loc[bikes['Year'].idxmax()]\n",
    "print(f\"The newest bike sold here is {newest_bike['Car_Name']} from the year {newest_bike['Year']}.\")"
   ]
  },
  {
   "cell_type": "markdown",
   "metadata": {},
   "source": [
    "20) Which is the most sold bike here?"
   ]
  },
  {
   "cell_type": "code",
   "execution_count": 31,
   "metadata": {},
   "outputs": [
    {
     "name": "stdout",
     "output_type": "stream",
     "text": [
      "The most sold bike here is Honda Activa 4G.\n"
     ]
    }
   ],
   "source": [
    "most_sold_bike = bikes['Car_Name'].value_counts().idxmax()\n",
    "print(f\"The most sold bike here is {most_sold_bike}.\")"
   ]
  },
  {
   "cell_type": "markdown",
   "metadata": {},
   "source": [
    "21) Do you find any deal in two wheelers which exceeded the general expectation ? Can you find reason for it ?"
   ]
  },
  {
   "cell_type": "code",
   "execution_count": null,
   "metadata": {},
   "outputs": [],
   "source": [
    "# Calculate the percentage depreciation for each bike\n",
    "bikes['Percentage_Depreciation'] = (bikes['Depreciation'] / bikes['Present_Price']) * 100\n",
    "\n",
    "# Find the bike with the least percentage depreciation\n",
    "best_deal_bike = bikes.loc[bikes['Percentage_Depreciation'].idxmin()]\n",
    "\n",
    "print(f\"The deal in two wheelers which exceeded the general expectation is {best_deal_bike['Car_Name']} from the year {best_deal_bike['Year']}.\")\n",
    "print(f\"Selling Price: {best_deal_bike['Selling_Price']} lakhs\")\n",
    "print(f\"Present Price: {best_deal_bike['Present_Price']} lakhs\")\n",
    "print(f\"Depreciation: {best_deal_bike['Depreciation']} lakhs\")\n",
    "print(f\"Percentage Depreciation: {best_deal_bike['Percentage_Depreciation']:.2f}%\")\n",
    "print(f\"Kms Driven: {best_deal_bike['Kms_Driven']} kms\")\n",
    "print(f\"Owner: {best_deal_bike['Owner']}\")"
   ]
  }
 ],
 "metadata": {
  "kernelspec": {
   "display_name": "Python 3",
   "language": "python",
   "name": "python3"
  },
  "language_info": {
   "codemirror_mode": {
    "name": "ipython",
    "version": 3
   },
   "file_extension": ".py",
   "mimetype": "text/x-python",
   "name": "python",
   "nbconvert_exporter": "python",
   "pygments_lexer": "ipython3",
   "version": "3.13.2"
  }
 },
 "nbformat": 4,
 "nbformat_minor": 2
}
